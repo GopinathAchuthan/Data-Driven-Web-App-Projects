{
 "cells": [
  {
   "cell_type": "markdown",
   "id": "shared-honey",
   "metadata": {},
   "source": [
    "# Chicago Crime Rate Interactive Dashboard"
   ]
  },
  {
   "cell_type": "code",
   "execution_count": 1,
   "id": "second-translator",
   "metadata": {},
   "outputs": [],
   "source": [
    "import pandas as pd\n",
    "import numpy as np\n",
    "\n",
    "import datetime\n",
    "import calendar\n",
    "\n",
    "from ipywidgets import widgets, Accordion, Button, Dropdown, HBox, Output, Tab, VBox, Layout, GridBox\n",
    "import io\n",
    "\n",
    "import folium\n",
    "from folium import plugins\n",
    "\n",
    "import seaborn as sns\n",
    "import matplotlib.pyplot as plt\n",
    "\n",
    "%matplotlib inline"
   ]
  },
  {
   "cell_type": "code",
   "execution_count": 2,
   "id": "bigger-chase",
   "metadata": {},
   "outputs": [],
   "source": [
    "df = pd.read_csv(\"Crimes_-_2001_to_Present.csv\")\n",
    "\n",
    "df.Latitude = df.Latitude.fillna(df.Latitude.mean(skipna=True))\n",
    "df.Longitude = df.Longitude.fillna(df.Longitude.mean(skipna=True))\n",
    "\n"
   ]
  },
  {
   "cell_type": "code",
   "execution_count": 3,
   "id": "finished-soccer",
   "metadata": {},
   "outputs": [],
   "source": [
    "df2 = df.drop(columns=['ID', 'Case Number', 'IUCR', 'Block', 'FBI Code', 'X Coordinate', \n",
    "                       'Y Coordinate', 'Updated On', 'Location', 'Beat','District','Ward', 'Community Area'])"
   ]
  },
  {
   "cell_type": "code",
   "execution_count": 4,
   "id": "spread-rubber",
   "metadata": {},
   "outputs": [],
   "source": [
    "df2 = df2.rename(columns={'Date':'Datetime'})\n",
    "df2.Datetime = pd.to_datetime(df2.Datetime, format='%m/%d/%Y %I:%M:%S %p')\n",
    "df2['Date'] = df2['Datetime'].dt.date\n",
    "df2['Time'] = df2['Datetime'].dt.time "
   ]
  },
  {
   "cell_type": "code",
   "execution_count": 5,
   "id": "cathedral-arlington",
   "metadata": {},
   "outputs": [],
   "source": [
    "# values_loc_desc = list(df2['Location Description'].dropna().unique())\n",
    "# values_pri_desc = list(df2['Primary Type'].dropna().unique())\n",
    "# values_sec_desc = list(df2['Description'].dropna().unique())\n",
    "\n",
    "\n",
    "values_loc_desc = list(df2['Location Description'].value_counts()[:20].index)\n",
    "values_pri_desc = list(df2['Primary Type'].value_counts()[:20].index)\n",
    "values_sec_desc = list(df2['Description'].value_counts()[:20].index)\n",
    "\n",
    "center = (df2.Latitude.mean(skipna=True), df2.Longitude.mean(skipna=True))"
   ]
  },
  {
   "cell_type": "code",
   "execution_count": 6,
   "id": "incorporated-footage",
   "metadata": {},
   "outputs": [],
   "source": [
    "def get_df(from_d, to_d, loc_list, pri_list, sec_list, arrest_val, domestic_val):\n",
    "    table = df2[(df2['Date']>datetime.date(from_d.year,from_d.month,from_d.day)) & (df2['Date']<datetime.date(to_d.year,to_d.month,to_d.day))]\n",
    "    # Arrest and Domestic\n",
    "    if arrest_val == 'True':\n",
    "        table = table[table['Arrest']==True]\n",
    "    if arrest_val == 'False':\n",
    "        table = table[table['Arrest']==False]\n",
    "    if domestic_val == 'True':\n",
    "        table = table[table['Domestic']==True]\n",
    "    if domestic_val == 'False':\n",
    "        table = table[table['Domestic']==False]\n",
    "\n",
    "    # Location, Primary, Secondary\n",
    "    table = table[table['Location Description'].isin(loc_list)]\n",
    "    table = table[table['Primary Type'].isin(pri_list)]\n",
    "    table = table[table['Description'].isin(sec_list)]\n",
    "    \n",
    "    return table"
   ]
  },
  {
   "cell_type": "code",
   "execution_count": 7,
   "id": "blind-cooperation",
   "metadata": {},
   "outputs": [],
   "source": [
    "date_from = widgets.DatePicker(description='From', disabled=False, value = datetime.date(2015, 4, 1))\n",
    "date_to = widgets.DatePicker(description='To',disabled=False, value = datetime.date(2019, 6, 1))\n",
    "\n",
    "arrest = widgets.RadioButtons(\n",
    "                    options=[('Yes','True'), ('No','False'),('None','none')],\n",
    "                    value='none',\n",
    "                    description='Arrest',\n",
    "                    disabled=False\n",
    "                )\n",
    "domestic = widgets.RadioButtons(\n",
    "                    options=[('Yes','True'), ('No','False'),('None','none')],\n",
    "                    value='none',\n",
    "                    description='Domestic',\n",
    "                    disabled=False\n",
    "                )"
   ]
  },
  {
   "cell_type": "code",
   "execution_count": 8,
   "id": "periodic-mattress",
   "metadata": {},
   "outputs": [],
   "source": [
    "loc_desc = widgets.SelectMultiple(\n",
    "                options = values_loc_desc,\n",
    "                value=['STREET'],\n",
    "                rows=5,\n",
    "                description='Location',\n",
    "                disabled=False\n",
    "            )\n",
    "pri_desc = widgets.SelectMultiple(\n",
    "                options = values_pri_desc,\n",
    "                value=['BATTERY'],\n",
    "                rows=5,\n",
    "                description='Primary Type',\n",
    "                disabled=False\n",
    "            )\n",
    "sec_desc = widgets.SelectMultiple(\n",
    "                options = values_sec_desc,\n",
    "                value=['SIMPLE'],\n",
    "                rows=5,\n",
    "                description='Secondary Type',\n",
    "                disabled=False\n",
    "            )"
   ]
  },
  {
   "cell_type": "code",
   "execution_count": 9,
   "id": "interstate-circle",
   "metadata": {},
   "outputs": [],
   "source": [
    "accordion = widgets.Accordion(children=[loc_desc, pri_desc, sec_desc])\n",
    "accordion.set_title(0, 'Location Description')\n",
    "accordion.set_title(1, 'Crime-Primary Type')\n",
    "accordion.set_title(2, 'Crime-Secondary Type')"
   ]
  },
  {
   "cell_type": "code",
   "execution_count": 10,
   "id": "encouraging-veteran",
   "metadata": {},
   "outputs": [],
   "source": [
    "control = VBox([date_from, date_to, arrest, domestic, accordion])"
   ]
  },
  {
   "cell_type": "code",
   "execution_count": 11,
   "id": "recovered-reporter",
   "metadata": {},
   "outputs": [],
   "source": [
    "# Heat Map\n",
    "def heat_map(date_from, date_to, loc_desc, pri_desc, sec_desc, arrest, domestic):    \n",
    "    table = get_df(date_from, date_to, loc_desc, pri_desc, sec_desc, arrest, domestic)\n",
    "    \n",
    "    Location = table[['Latitude', 'Longitude']].to_numpy()\n",
    "    m = folium.Map(location=list(center), tiles='cartodb positron')\n",
    "    m = m.add_child(plugins.HeatMap(Location, radius=12))\n",
    "    display(m)\n",
    "    "
   ]
  },
  {
   "cell_type": "code",
   "execution_count": 12,
   "id": "going-therapist",
   "metadata": {},
   "outputs": [],
   "source": [
    "def circle_map(date_from, date_to, loc_desc, pri_desc, sec_desc, arrest, domestic):\n",
    "    table = get_df(date_from, date_to, loc_desc, pri_desc, sec_desc, arrest, domestic)\n",
    "    \n",
    "    Location = table[['Latitude', 'Longitude']].to_numpy()\n",
    "    m = folium.Map(location=list(center),tiles='CartoDB dark_matter')\n",
    "    plugins.FastMarkerCluster(data=Location).add_to(m)\n",
    "    folium.LayerControl().add_to(m)\n",
    "    \n",
    "    for index, row in table.iterrows():\n",
    "        popup_text = \"Date: {}<br> Time: {}<br> Location Description: {}<br> Primary Type: {}<br> Secondary Type: {}\"\n",
    "        popup_text = popup_text.format(\n",
    "                      row['Date'].strftime(\"%b %d, %Y\"), row['Time'].strftime('%I:%M:%S %p'),\n",
    "                      row['Location Description'], row['Primary Type'], row['Description']\n",
    "                      )\n",
    "        folium.CircleMarker(location=(row['Latitude'],row['Longitude']),\n",
    "                            radius= 3,\n",
    "                            color=\"#007849\",\n",
    "                            popup=folium.Popup(popup_text, max_width=500,min_width=100),\n",
    "                            fill=False).add_to(m)\n",
    "    \n",
    "    display(m)\n",
    "    "
   ]
  },
  {
   "cell_type": "code",
   "execution_count": 13,
   "id": "destroyed-gallery",
   "metadata": {},
   "outputs": [],
   "source": [
    "# out = Output()\n",
    "map1 = widgets.interactive_output(heat_map, \n",
    "                                  {'date_from':date_from, 'date_to':date_to, \n",
    "                                   'loc_desc':loc_desc, 'pri_desc':pri_desc, \n",
    "                                   'sec_desc':sec_desc, 'arrest':arrest, \n",
    "                                   'domestic':domestic})\n",
    "map2 = widgets.interactive_output(circle_map, \n",
    "                                  {'date_from':date_from, 'date_to':date_to, \n",
    "                                   'loc_desc':loc_desc, 'pri_desc':pri_desc, \n",
    "                                   'sec_desc':sec_desc, 'arrest':arrest, \n",
    "                                   'domestic':domestic})\n",
    "\n",
    "maps = Tab(layout=Layout(height='100%'))\n",
    "maps.children = [map1, map2]\n",
    "# maps.set_title(0,'Debug Information')\n",
    "maps.set_title(0, 'Heat Map')\n",
    "maps.set_title(1, 'Fast Marker Cluster')"
   ]
  },
  {
   "cell_type": "code",
   "execution_count": 14,
   "id": "binding-contrast",
   "metadata": {},
   "outputs": [
    {
     "data": {
      "application/vnd.jupyter.widget-view+json": {
       "model_id": "a7469784fd5b405fa30c53a126f76a0e",
       "version_major": 2,
       "version_minor": 0
      },
      "text/plain": [
       "GridBox(children=(VBox(children=(DatePicker(value=datetime.date(2015, 4, 1), description='From'), DatePicker(v…"
      ]
     },
     "metadata": {},
     "output_type": "display_data"
    }
   ],
   "source": [
    "GridBox(children = [control, maps],\n",
    "       layout=Layout(width='100%', \n",
    "                    grid_template_columns='30% 70%',\n",
    "                    grid_template_areas='''\n",
    "                    \"control maps\"\n",
    "                    '''))"
   ]
  }
 ],
 "metadata": {
  "kernelspec": {
   "display_name": "Python 3",
   "language": "python",
   "name": "python3"
  },
  "language_info": {
   "codemirror_mode": {
    "name": "ipython",
    "version": 3
   },
   "file_extension": ".py",
   "mimetype": "text/x-python",
   "name": "python",
   "nbconvert_exporter": "python",
   "pygments_lexer": "ipython3",
   "version": "3.9.5"
  }
 },
 "nbformat": 4,
 "nbformat_minor": 5
}
