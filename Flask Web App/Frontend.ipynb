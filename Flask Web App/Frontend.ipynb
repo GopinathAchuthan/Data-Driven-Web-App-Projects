{
 "cells": [
  {
   "cell_type": "markdown",
   "id": "worst-arlington",
   "metadata": {},
   "source": [
    "# Data Driven Web Application Front-End"
   ]
  },
  {
   "cell_type": "markdown",
   "id": "incorporate-secretariat",
   "metadata": {},
   "source": [
    "## Disease Prediction"
   ]
  },
  {
   "cell_type": "code",
   "execution_count": 1,
   "id": "statistical-orlando",
   "metadata": {},
   "outputs": [],
   "source": [
    "from ipywidgets import Button, SelectMultiple, Dropdown, Accordion, Tab\n",
    "from ipywidgets import VBox, HBox, HTML, FileUpload, widgets, Label, Layout\n",
    "import pandas as pd\n",
    "import ipyaggrid\n",
    "import pickle\n",
    "import requests\n",
    "import json\n",
    "import io"
   ]
  },
  {
   "cell_type": "code",
   "execution_count": 2,
   "id": "consecutive-celebrity",
   "metadata": {},
   "outputs": [],
   "source": [
    "filename = 'data.pck'\n",
    "loaded_data = pickle.load(open(filename, 'rb'))"
   ]
  },
  {
   "cell_type": "code",
   "execution_count": 3,
   "id": "charged-selection",
   "metadata": {},
   "outputs": [],
   "source": [
    "# dropdowns\n",
    "disease_desc = Dropdown(options=loaded_data['Diseases'], value='Common Cold',\n",
    "                    description='Disease:', disabled=False)\n",
    "\n",
    "# select multiple\n",
    "symptoms = SelectMultiple(options=loaded_data['Symptoms'],\n",
    "                            value=['chills'],\n",
    "                            rows=10,\n",
    "                            description='Symptoms',\n",
    "                            disabled=False)\n",
    "\n",
    "# HTML\n",
    "details_disease = HTML(value= \"\", placeholder='disease details', description='')\n",
    "predict_sym = HTML(value= \"\", placeholder='disease details', description='')\n",
    "\n",
    "# Tab\n",
    "tab = Tab(layout=Layout(height='500px'))\n",
    "\n",
    "# FileUpload\n",
    "uploaded_file = FileUpload(accept='', multiple=False)\n",
    "\n",
    "# Grid options\n",
    "grid_options = {'enableSorting': True, 'enableFilter': True, 'enableColResize': True, 'enableRangeSelection': True}"
   ]
  },
  {
   "cell_type": "code",
   "execution_count": 4,
   "id": "aquatic-walter",
   "metadata": {},
   "outputs": [],
   "source": [
    "# buttons\n",
    "def onClickSearchDisease(btn):\n",
    "    data = disease_desc.value\n",
    "    r = requests.get('http://127.0.0.1:8001/search',json={'data':data})\n",
    "    msg = r.json()['msg']\n",
    "    desc = r.json()['description']\n",
    "    prec = r.json()['precaution']\n",
    "    details_disease.value = \"<h3><b>\"+msg+\"</b></h3>\"+\"<b>Description: </b>\"+desc+\"<br><b>Precaution: </b><br>\"+prec\n",
    "\n",
    "search_disease = Button(description='Search', disabled=False,\n",
    "                        button_style='info',\n",
    "                        tooltip='search description and precaution',\n",
    "                        icon='search')\n",
    "search_disease.on_click(onClickSearchDisease)\n",
    "#----------------------------------------------------------------------------------------------------------------\n",
    "def onClickPredictDisease(btn):\n",
    "    data = dict.fromkeys(loaded_data['Symptoms'], 0.0)\n",
    "    for value in symptoms.value:\n",
    "        data[value] = 1.0\n",
    "    \n",
    "    r = requests.post('http://127.0.0.1:8001/model',json={'data':[list(data.values())]})\n",
    "    \n",
    "    predict_sym.value = \"<br><b>Predicted Disease:</b> \"+r.json()['msg'][0]\n",
    "    \n",
    "predict_disease = Button(description='Predict', disabled=False,\n",
    "                        button_style='success',\n",
    "                        tooltip='disease prediction by symptoms',\n",
    "                        icon='question')\n",
    "predict_disease.on_click(onClickPredictDisease)\n",
    "#----------------------------------------------------------------------------------------------------------------\n",
    "def onClickPredictDisease2(btn):\n",
    "    if uploaded_file.value != {}:\n",
    "        content = uploaded_file.value[list(uploaded_file.value.keys())[0]]['content']\n",
    "        df = pd.read_csv(io.BytesIO(content))\n",
    "        data = pd.DataFrame(columns=loaded_data['Symptoms'])\n",
    "        \n",
    "        for row in range(df.shape[0]):\n",
    "            columns = df.loc[row].tolist()[1:]\n",
    "            columns = [x.replace(\" \",\"\") for x in columns if pd.isnull(x) == False]\n",
    "            new_row = dict.fromkeys(loaded_data['Symptoms'], 0.0)\n",
    "            for col in columns:\n",
    "                new_row[col] = 1.0\n",
    "            data = data.append(new_row, ignore_index=True)\n",
    "        \n",
    "        r = requests.post('http://127.0.0.1:8001/model',json={'data':data.values.tolist()})\n",
    "        value = r.json()['msg']\n",
    "        \n",
    "        df.insert(0, 'Disease', value, allow_duplicates = True)\n",
    "        \n",
    "        \n",
    "        \n",
    "        table = ipyaggrid.Grid(grid_data=df, grid_options=grid_options, quick_filter=True, \n",
    "                               show_toggle_edit=True, export_mode=\"buttons\", export_csv=True, export_excel=True,\n",
    "                               theme='ag-theme-balham', show_toggle_delete=True, columns_fit='auto', \n",
    "                               index=False, keep_multiindex=False)\n",
    "\n",
    "        \n",
    "        tab.children = [table]\n",
    "        tab.set_title(0,\"Predicted Table\")\n",
    "        \n",
    "        \n",
    "\n",
    "predict_disease2 = Button(description='Predict', disabled=False,\n",
    "                        button_style='success',\n",
    "                        tooltip='disease prediction by symptoms',\n",
    "                        icon='question')\n",
    "predict_disease2.on_click(onClickPredictDisease2)"
   ]
  },
  {
   "cell_type": "code",
   "execution_count": 5,
   "id": "indirect-happiness",
   "metadata": {},
   "outputs": [],
   "source": [
    "child1 = VBox([HBox([disease_desc,search_disease]), details_disease])\n",
    "child2 = VBox([symptoms,predict_disease,predict_sym])\n",
    "child3 = VBox([uploaded_file, predict_disease2])\n",
    "child4 = VBox([tab])"
   ]
  },
  {
   "cell_type": "code",
   "execution_count": 6,
   "id": "aging-clause",
   "metadata": {},
   "outputs": [],
   "source": [
    "accordion = Accordion(children=[child1, child2, child3])\n",
    "accordion.set_title(0, 'Disease Details')\n",
    "accordion.set_title(1, 'Predict Disease by Symptom')\n",
    "accordion.set_title(2, 'Predict Disease through upload file')\n"
   ]
  },
  {
   "cell_type": "code",
   "execution_count": 7,
   "id": "unsigned-skirt",
   "metadata": {},
   "outputs": [
    {
     "data": {
      "application/vnd.jupyter.widget-view+json": {
       "model_id": "a602cce0e5c347e8a11241e257053cd0",
       "version_major": 2,
       "version_minor": 0
      },
      "text/plain": [
       "VBox(children=(Accordion(children=(VBox(children=(HBox(children=(Dropdown(description='Disease:', index=10, op…"
      ]
     },
     "metadata": {},
     "output_type": "display_data"
    }
   ],
   "source": [
    "display(VBox([accordion, child4]))"
   ]
  },
  {
   "cell_type": "code",
   "execution_count": null,
   "id": "chemical-addition",
   "metadata": {},
   "outputs": [],
   "source": []
  },
  {
   "cell_type": "code",
   "execution_count": null,
   "id": "palestinian-craft",
   "metadata": {},
   "outputs": [],
   "source": []
  },
  {
   "cell_type": "code",
   "execution_count": null,
   "id": "revised-blowing",
   "metadata": {},
   "outputs": [],
   "source": []
  }
 ],
 "metadata": {
  "kernelspec": {
   "display_name": "Python 3",
   "language": "python",
   "name": "python3"
  },
  "language_info": {
   "codemirror_mode": {
    "name": "ipython",
    "version": 3
   },
   "file_extension": ".py",
   "mimetype": "text/x-python",
   "name": "python",
   "nbconvert_exporter": "python",
   "pygments_lexer": "ipython3",
   "version": "3.9.5"
  }
 },
 "nbformat": 4,
 "nbformat_minor": 5
}
